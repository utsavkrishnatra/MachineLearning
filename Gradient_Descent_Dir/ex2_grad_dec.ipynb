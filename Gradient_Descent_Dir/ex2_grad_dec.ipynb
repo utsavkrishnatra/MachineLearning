# -*- coding: utf-8 -*-
"""
Created on Sat Jul 14 11:45:39 2018

@author: utsav
"""

import numpy as np
import pandas as pd
from sklearn import preprocessing

dataTrain=pd.read_csv("E:\\ML\\Gradient_Descent_Dir\\x_y_train.csv",delimiter=",")
Xtest=np.loadtxt("E:\\ML\\Gradient_Descent_Dir\\x_test.csv",delimiter=",")
Xtest=np.insert(Xtest,len(Xtest[0]),np.ones(len(Xtest)),axis=1)
scaler=preprocessing.StandardScaler()

def step_grad(Xtrain,Ytrain,m,lr):
    M=len(Xtrain[0]) #cols
    N=len(Xtrain)    #rows
    m_slope=np.zeros(M)
    for i in range(N):
        y=Ytrain[i]
        x=Xtrain[i]
        for j in range(M):
         
            m_slope[j]+=(y-(m*x).sum())*x[j]*(-2/(N))
    for i in range(M):
        m[i]-=lr*m_slope[i]
    return m    
        
    
    

def gd(dataTrain,lr,itrs):
    
    Ytrain=dataTrain[' EP']
    Xtrain=dataTrain.drop(' EP',axis=1)
    ones=np.ones(len(Xtrain))
    Xtrain['ones']=ones
    Xtrain=np.array(Xtrain)
    
    scaler.fit(Xtrain)
    
    Xtrain=scaler.transform(Xtrain)
    
    
    Ytrain=np.array(Ytrain)
    m=np.zeros(len(Xtrain[1]))
    
    for i in range(itrs):
        m=step_grad(Xtrain,Ytrain,m,lr)
#        print(cost(m,Xtrain,Ytrain))
#    print("m: ",m,"cost:",cost(m,Xtrain,Ytrain)) 
    return m    
    
def run():
    lr=.0001
    itrs=10
    m=gd(dataTrain,lr,itrs)
    return m

def cost(m,X,Y):
    N=len(Y)
    cost=0
    m_x_sum=X.dot(m)
    for i in range(N):
        cost+=(Y[i]-m_x_sum[i])**2
    cost=cost/N  
    return cost

def define_Y_pred(m):
    #Xtest1=scaler.transform(Xtest) 
    Ypred=(Xtest.dot(m))
    return Ypred
    
 


    
 
m=run()  
Ypred=define_Y_pred(m) 
np.savetxt("E:\\ML\\Gradient_Descent_Dir\\PowerPlant1.csv",Ypred,fmt="%1.5f",delimiter=",")  
          
  