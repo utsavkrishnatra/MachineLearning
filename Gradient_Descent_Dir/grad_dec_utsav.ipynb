# -*- coding: utf-8 -*-
"""
Created on Fri Jul 13 05:08:26 2018

@author: utsav
"""

import numpy as np
import pandas as pd
from sklearn import preprocessing
data = pd.read_csv("E:\ML\\train_boston_x_y.csv", delimiter=",")
data.shape
data.columns
Y=data[' Y']
del data[' Y']
data=preprocessing.scale(data)
data=pd.DataFrame(data)
lc=np.ones(data.shape[0])
lc.shape
data['lc']=lc
points=np.array(data)

def step_gradient(points, learning_rate, m):
    m_slope = np.zeros(14)
    M = len(points)
    for i in range(M):
        x = points[i]
        y = Y[i]
        for j in range(14):
            m_slope[j] = m_slope[j]+(-2/M)* (y - (m * x).sum() )*x[j]
            
    for j in range(14):
        m[j] = m[j] - learning_rate*m_slope[j]
    
    return m

def gd(points, learning_rate, num_iterations):
    m=np.zeros(14)
    for i in range(num_iterations):
        m = step_gradient(points, learning_rate, m)
        print(i, " Cost: ", cost(points, m))
    return m

def cost(points, m):
    total_cost = 0
    M = len(points)
    for i in range(M):
        x = points[i]
        y = Y[i]
        total_cost += (1/M)*((y - (m*x).sum() )**2)
    return total_cost

def run():
    learning_rate = 0.07
    num_iterations = 100
    m = gd(points, learning_rate, num_iterations)
    print(m)
    return m

m=run()
df=pd.read_csv("E:\ML\\test_boston_x.csv")

df[1]=np.ones(df.shape[0])
y_test=[]
df=np.array(df)
M = df.shape[0]
for i in range(M):
    x = df[i]
    z=(m*x).sum()
    y_test.append(z)
print(y_test)    
#np.savetxt('bostontestgd_copy.csv', y_test, delimiter=',',fmt='%1.5f')
np.savetxt("E:\\boston_Y_pred.csv",y_pred,fmt="%.5f",delimiter=",")