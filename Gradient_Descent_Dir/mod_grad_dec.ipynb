# -*- coding: utf-8 -*-
"""
Created on Fri Jul 13 01:29:37 2018

@author: utsav
"""

import numpy as np
from sklearn import preprocessing
import pandas as pd


def step_grad(dataX,dataY,lr,m):
    M=len(dataX)
    N=len(dataX[1])
#    m_x_sum=np.array([0]*M)
    m_x_sum=np.zeros(M)
#    dataX=data[:,0:N]
#    y=data[:,N]
    for j in range(M):
#        print("m ",m.shape," data[j]:",dataX[j].shape)
        m_x_sum[j]=dataY[j]-((m*dataX[j]).sum())
        
    for j in range(N):
        x_j=dataX[:,j]
        m[j]-=(-2/M)*((m_x_sum*x_j).sum())*lr
    return m   
        
def gd(dataX,dataY,lr,itrs):
#    m=np.array([0]*(len(dataX[1])))
    m=np.zeros(len(dataX[1]))
    for i in range(itrs):
        m=step_grad(dataX,dataY,lr,m)
    return m    
    


def run():
    data1=np.loadtxt("E:\ML\\train_boston_x_y.csv",delimiter=",")
    temp=pd.DataFrame(data1)
    print(temp.head(5))
    data2=np.loadtxt("E:\ML\\test_boston_x.csv",delimiter=",")
    data2=np.insert(data2,len(data2[1]),1,axis=1)
    lr=0.07
    itrs=100
    data=np.insert(data1,len(data1[1])-1,1,axis=1)
    dataY=data[:,len(data[1])-1]
    dataX=data[:,0:len(data[1])-1]
    scalar=preprocessing.StandardScaler()
    scalar.fit(dataX)
    dataX=scalar.transform(dataX)
    data2=scalar.transform(data2)
    
    m=gd(dataX,dataY,lr,itrs)
    #m.reshape(-1,1)
    
    print(m.shape," data2->",data2.shape,dataX.shape)
    y_pred=data2.dot(m)
#    y_pred=y_pred[:,len(y_pred[1])-1]
    print(y_pred)
    np.savetxt("E:\\boston_Y_pred.csv",y_pred,fmt="%.5f",delimiter=",")

run()        